{
  "nbformat": 4,
  "nbformat_minor": 0,
  "metadata": {
    "colab": {
      "provenance": []
    },
    "kernelspec": {
      "name": "python3",
      "display_name": "Python 3"
    },
    "language_info": {
      "name": "python"
    }
  },
  "cells": [
    {
      "cell_type": "markdown",
      "source": [
        "# Alura - Imersão IA 3ª Edição\n",
        "## Projeto agentes com API Google Gemini\n",
        "### hvallebr - 17-05-2025"
      ],
      "metadata": {
        "id": "oaFaKN7tGsEH"
      }
    },
    {
      "cell_type": "markdown",
      "source": [
        "Objetivo: Busca uma receita culinária com base nos ingredientes que você tem disponível. A partir de uma lista de ingredientes, será exibida uma lista de receitas onde é possível utilizar estes ingredientes. Após escolher uma das receitas, você receberá as instruções completas desta receita, como lista total de ingredientes, modo de preparo, tempo de preparo, rendimento (porções)."
      ],
      "metadata": {
        "id": "_RemBJwHHdTE"
      }
    },
    {
      "cell_type": "code",
      "source": [
        "%pip -q install google-genai google-adk"
      ],
      "metadata": {
        "id": "UCCbECexLk_h"
      },
      "execution_count": 93,
      "outputs": []
    },
    {
      "cell_type": "code",
      "source": [
        "# Configura a API Key do Google Gemini\n",
        "import os\n",
        "from google.colab import userdata\n",
        "\n",
        "os.environ[\"GOOGLE_API_KEY\"] = userdata.get('GOOGLE_API_KEY')"
      ],
      "metadata": {
        "id": "bGyXDmOt8KTo"
      },
      "execution_count": 94,
      "outputs": []
    },
    {
      "cell_type": "code",
      "source": [
        "from google import genai\n",
        "from google.adk.agents import Agent\n",
        "from google.adk.runners import Runner\n",
        "from google.adk.sessions import InMemorySessionService\n",
        "from google.adk.tools import google_search\n",
        "from google.genai import types\n",
        "from datetime import date\n",
        "import textwrap\n",
        "from IPython.display import display, Markdown\n",
        "import requests\n",
        "import warnings\n",
        "import re # Para extrair o nome da receita da string\n",
        "\n",
        "warnings.filterwarnings(\"ignore\")"
      ],
      "metadata": {
        "id": "NfCqHo1tLk8P"
      },
      "execution_count": 95,
      "outputs": []
    },
    {
      "cell_type": "code",
      "source": [
        "# Função auxiliar que envia uma mensagem para um agente via Runner e retorna a resposta final\n",
        "def call_agent(agent: Agent, message_text: str) -> str:\n",
        "    session_service = InMemorySessionService()\n",
        "    session = session_service.create_session(app_name=agent.name, user_id=\"user1\", session_id=\"session1\")\n",
        "    runner = Runner(agent=agent, app_name=agent.name, session_service=session_service)\n",
        "    content = types.Content(role=\"user\", parts=[types.Part(text=message_text)])\n",
        "\n",
        "    final_response = \"\"\n",
        "    for event in runner.run(user_id=\"user1\", session_id=\"session1\", new_message=content):\n",
        "        if event.is_final_response():\n",
        "          for part in event.content.parts:\n",
        "            if part.text is not None:\n",
        "              final_response += part.text\n",
        "              final_response += \"\\n\"\n",
        "    return final_response"
      ],
      "metadata": {
        "id": "xq3pyzwhzZVO"
      },
      "execution_count": 96,
      "outputs": []
    },
    {
      "cell_type": "code",
      "source": [
        "# Função auxiliar para exibir texto formatado em Markdown no Colab\n",
        "def to_markdown(text):\n",
        "  text = text.replace('•', '  *')\n",
        "  return Markdown(textwrap.indent(text, '> ', predicate=lambda _: True))"
      ],
      "metadata": {
        "id": "bgWXN3_hzxIx"
      },
      "execution_count": 97,
      "outputs": []
    },
    {
      "cell_type": "code",
      "source": [
        "# --- NOVO: Função para extrair o nome da receita ---\n",
        "def extract_recipe_names(raw_output: str) -> list[str]:\n",
        "    \"\"\"\n",
        "    Extrai os nomes das receitas de uma string formatada pelo agente_buscador.\n",
        "    Retorna uma lista de strings com os nomes das receitas.\n",
        "    \"\"\"\n",
        "    names = []\n",
        "    # Expressão regular para encontrar \"Número - Nome da Receita\"\n",
        "    # Captura tudo após \" - \" até o final da linha\n",
        "    pattern = re.compile(r'^\\d+\\s*-\\s*(.+)$', re.MULTILINE)\n",
        "    for line in raw_output.splitlines():\n",
        "        match = pattern.match(line.strip())\n",
        "        if match:\n",
        "            names.append(match.group(1).strip())\n",
        "    return names"
      ],
      "metadata": {
        "id": "zuUvalvr657S"
      },
      "execution_count": 98,
      "outputs": []
    },
    {
      "cell_type": "code",
      "source": [
        "# --- AGENTE 1: BUSCADOR DE RECEITAS ---\n",
        "def agente_buscador(topico: str) -> tuple[str, list[str]]:\n",
        "    \"\"\"\n",
        "    Busca receitas com base nos ingredientes e retorna a lista formatada\n",
        "    e uma lista com os nomes das receitas.\n",
        "    \"\"\"\n",
        "    buscador = Agent(\n",
        "        name=\"agente_buscador\",\n",
        "        model=\"gemini-2.0-flash\",\n",
        "        instruction=\"\"\"\n",
        "        Você é um instrutor de culinária.\n",
        "        Sua tarefa é usar a ferramenta de busca do google (Google Search) para buscar receitas com base nos ingredientes fornecidos.\n",
        "        Nesta etapa você só precisa se preocupar com o nome das receitas, que serão utilizadas para detalhamento em uma etapa seguinte.\n",
        "        Cada receita deve ser exibida em uma linha, retorne uma lista com numeração sequencial das receitas no formato (1 - Bolo de Cenoura\\n2 - Frango Xadrez\\n).\n",
        "        Exiba o número e nome de cada receita em linhas separadas.\n",
        "        \"\"\",\n",
        "        description=\"Agente buscador de receitas no Google\",\n",
        "        tools=[google_search]\n",
        "    )\n",
        "\n",
        "    entrada_do_agente_buscador = f\"Tópico: receitas com {topico}\"\n",
        "\n",
        "    # O agente retorna a string formatada\n",
        "    receitas_formatadas = call_agent(buscador, entrada_do_agente_buscador)\n",
        "\n",
        "    # Extrai os nomes das receitas para uso posterior\n",
        "    lista_nomes_receitas = extract_recipe_names(receitas_formatadas)\n",
        "\n",
        "    return receitas_formatadas, lista_nomes_receitas"
      ],
      "metadata": {
        "id": "BG5QAyLexFb4"
      },
      "execution_count": 99,
      "outputs": []
    },
    {
      "cell_type": "code",
      "source": [
        "# --- AGENTE 2: DETALHADOR DE RECEITAS ---\n",
        "def agente_detalhador_de_receitas(nome_da_receita: str) -> str:\n",
        "    \"\"\"\n",
        "    Detalha uma receita específica usando o nome da receita como input para o Google Search.\n",
        "    \"\"\"\n",
        "    detalhador = Agent(\n",
        "        name=\"agente_detalhador\",\n",
        "        model=\"gemini-2.0-flash\",\n",
        "        instruction=f\"\"\"\n",
        "        Você é um instrutor de culinária.\n",
        "        Com base no nome da receita fornecido, sua tarefa é usar a ferramenta de busca do google (Google Search) para buscar detalhes completos sobre essa receita.\n",
        "        A receita específica a ser detalhada é: \"{nome_da_receita}\".\n",
        "        Retorne um texto com a receita detalhando:\n",
        "        - ingredientes com quantidades (se possível, estimadas)\n",
        "        - modo de preparo passo a passo\n",
        "        - tempo de preparo estimado\n",
        "        - rendimento (porções)\n",
        "        - dicas culinárias adicionais\n",
        "        - sugestões de acompanhamentos (se aplicável).\n",
        "        Sua resposta deve ser clara, organizada e fácil de seguir, como uma receita de um livro de culinária.\n",
        "        \"\"\",\n",
        "        description=\"Agente detalhador de receitas no Google\",\n",
        "        tools=[google_search]\n",
        "    )\n",
        "\n",
        "    # A entrada para o detalhador é o nome da receita que ele deve buscar\n",
        "    entrada_do_agente_detalhador = f\"Detalhes da receita: {nome_da_receita}\"\n",
        "\n",
        "    receita_detalhada = call_agent(detalhador, entrada_do_agente_detalhador)\n",
        "    return receita_detalhada"
      ],
      "metadata": {
        "id": "YrL8Gtf220p9"
      },
      "execution_count": 100,
      "outputs": []
    },
    {
      "cell_type": "code",
      "source": [
        "# --- Lógica Principal ---\n",
        "print(\"Projeto Receita Culinária\")\n",
        "\n",
        "# --- Obter o Tópico (ingredientes) do Usuário ---\n",
        "ingredientes_input = input(\"❓ Que tal preparar uma receita? Liste os ingredientes que você tem disponível, separados por vírgula: \")\n",
        "\n",
        "if not ingredientes_input.strip():\n",
        "    print(\"Você esqueceu de digitar os ingredientes!\")\n",
        "else:\n",
        "    print(f\"Maravilha! Vamos buscar algumas receitas com estes ingredientes: {ingredientes_input}\")\n",
        "\n",
        "    # Chama o agente buscador. Agora ele retorna a string formatada E a lista de nomes.\n",
        "    receitas_formatadas, lista_nomes_receitas = agente_buscador(ingredientes_input)\n",
        "\n",
        "    print(\"\\n--- 📝 Resultado do Agente 1 (Buscador de receitas) ---\\n\")\n",
        "    if receitas_formatadas.strip(): # Verifica se o agente retornou algo\n",
        "        display(to_markdown(receitas_formatadas))\n",
        "    else:\n",
        "        print(\"> Nenhuma receita encontrada com os ingredientes fornecidos.\")\n",
        "\n",
        "    # --- Permite ao usuário escolher uma receita se houver resultados ---\n",
        "    if lista_nomes_receitas:\n",
        "        while True:\n",
        "            try:\n",
        "                escolha_usuario_str = input(\n",
        "                    \"\\n❓ Informe o NÚMERO da receita escolhida para detalhar (ou '0' para sair): \"\n",
        "                )\n",
        "                if escolha_usuario_str == '0':\n",
        "                    print(\"Saindo do programa.\")\n",
        "                    break\n",
        "\n",
        "                escolha_usuario_num = int(escolha_usuario_str)\n",
        "                # Ajusta para índice base 0\n",
        "                index_receita_escolhida = escolha_usuario_num - 1\n",
        "\n",
        "                if 0 <= index_receita_escolhida < len(lista_nomes_receitas):\n",
        "                    nome_da_receita_escolhida = lista_nomes_receitas[index_receita_escolhida]\n",
        "                    print(f\"Certo, vamos detalhar a receita: {nome_da_receita_escolhida}\")\n",
        "\n",
        "                    # Chama o agente detalhador com o NOME EXATO da receita\n",
        "                    detalhes_receita = agente_detalhador_de_receitas(nome_da_receita_escolhida)\n",
        "\n",
        "                    print(\"\\n--- 📝 Resultado do Agente 2 (Detalhador de Receitas) --\\n\")\n",
        "                    display(to_markdown(detalhes_receita))\n",
        "                    print(\"--------------------------------------------------------------\")\n",
        "                    break # Sai do loop de escolha de receita\n",
        "                else:\n",
        "                    print(\"Número de receita inválido. Por favor, digite um número da lista.\")\n",
        "            except ValueError:\n",
        "                print(\"Entrada inválida. Por favor, digite um número.\")\n",
        "    else:\n",
        "        print(\"Não há receitas para detalhar.\")\n",
        "\n",
        "print(\"\\nFim do Projeto Receita Culinária.\")"
      ],
      "metadata": {
        "colab": {
          "base_uri": "https://localhost:8080/",
          "height": 1000
        },
        "id": "Y4comMlXzssC",
        "outputId": "626087b8-78ac-4f25-a67b-42cc9a0552b7"
      },
      "execution_count": 101,
      "outputs": [
        {
          "output_type": "stream",
          "name": "stdout",
          "text": [
            "Projeto Receita Culinária\n",
            "❓ Que tal preparar uma receita? Liste os ingredientes que você tem disponível, separados por vírgula: beringela, carne moida, ovos\n",
            "Maravilha! Vamos buscar algumas receitas com estes ingredientes: beringela, carne moida, ovos\n",
            "\n",
            "--- 📝 Resultado do Agente 1 (Buscador de receitas) ---\n",
            "\n"
          ]
        },
        {
          "output_type": "display_data",
          "data": {
            "text/plain": [
              "<IPython.core.display.Markdown object>"
            ],
            "text/markdown": "> 1 - Enpanado de carne moída com beringela\n> 2 - Berinjela recheada com carne moída\n> 3 - Rocambole de Berinjela com Carne Moída\n> 4 - Berinjela Recheada com Carne Moída Light\n> 5 - Berinjela de forno com carne moída\n> \n"
          },
          "metadata": {}
        },
        {
          "output_type": "stream",
          "name": "stdout",
          "text": [
            "\n",
            "❓ Informe o NÚMERO da receita escolhida para detalhar (ou '0' para sair): 1\n",
            "Certo, vamos detalhar a receita: Enpanado de carne moída com beringela\n",
            "\n",
            "--- 📝 Resultado do Agente 2 (Detalhador de Receitas) --\n",
            "\n"
          ]
        },
        {
          "output_type": "display_data",
          "data": {
            "text/plain": [
              "<IPython.core.display.Markdown object>"
            ],
            "text/markdown": "> Aqui estão os detalhes da receita de \"Enpanado de carne moída com beringela\", elaborados para serem fáceis de seguir:\n> \n>  \n> ## Enpanado de Carne Moída com Beringela: Receita Detalhada\n> \n> Esta receita combina a versatilidade da carne moída com a textura e sabor únicos da berinjela, resultando em um prato saboroso e nutritivo.\n> \n> **Ingredientes:**\n> \n> *   1 kg de carne moída\n> *   2 berinjelas médias\n> *   2 ovos\n> *   Farinha de rosca (o suficiente para empanar)\n> *   Sal e temperos a gosto (alho, cebola, pimenta do reino, orégano, cheiro verde)\n> *   Óleo para fritar\n> \n> **Modo de Preparo:**\n> \n> 1.  **Preparo da Beringela:**\n>     *   Lave bem as berinjelas e corte-as em rodelas de aproximadamente 0,5 cm de espessura.\n>     *   Para retirar o amargor, coloque as rodelas de berinjela em água com sal por cerca de 30 minutos. Escorra e seque-as bem com papel toalha.\n> 2.  **Tempero da Carne Moída:**\n>     *   Em uma tigela, tempere a carne moída com sal, alho picado, cebola picada (ou ralada), pimenta do reino, orégano e cheiro verde a gosto. Misture bem e reserve.\n> 3.  **Montagem dos Empanados:**\n>     *   Pegue uma rodela de berinjela e coloque uma porção de carne moída temperada por cima, espalhando uniformemente.\n>     *   Cubra com outra rodela de berinjela, formando um \"sanduíche\" de carne moída entre duas fatias de berinjela. Aperte delicadamente para unir.\n> 4.  **Empanamento:**\n>     *   Em um prato fundo, bata os ovos com um garfo.\n>     *   Passe cada \"sanduíche\" de berinjela na farinha de rosca, certificando-se de cobrir todos os lados.\n>     *   Em seguida, mergulhe nos ovos batidos e, novamente, na farinha de rosca para garantir uma camada crocante.\n> 5.  **Fritura:**\n>     *   Em uma panela funda, aqueça o óleo em fogo médio.\n>     *   Frite os empanados de carne moída com berinjela aos poucos, para não abaixar a temperatura do óleo.\n>     *   Deixe dourar por igual, virando-os para que fiquem crocantes dos dois lados.\n>     *   Retire os empanados com uma escumadeira e coloque-os sobre papel toalha para absorver o excesso de óleo.\n> 6.  **Servir:**\n>     *   Sirva os empanados de carne moída com berinjela quentes.\n> \n> **Tempo de Preparo Estimado:**\n> \n> *   Preparo: 30 minutos\n> *   Cozimento: 20 minutos\n> *   Tempo total: 50 minutos\n> \n> **Rendimento:**\n> \n> *   Aproximadamente 25 porções, dependendo do tamanho das rodelas de berinjela e da quantidade de carne moída utilizada em cada empanado.\n> \n> **Dicas Culinárias Adicionais:**\n> \n> *   **Para uma versão mais saudável:** Em vez de fritar, você pode assar os empanados no forno. Coloque-os em uma assadeira untada e leve ao forno pré-aquecido a 200°C por cerca de 30 minutos, virando na metade do tempo para dourar por igual.\n> *   **Varie os temperos:** Experimente adicionar outros temperos à carne moída, como cominho, páprica doce ou picante, ou ervas finas.\n> *   **Recheio:** Para um toque extra de sabor, adicione queijo mussarela ralado entre as camadas de carne moída e berinjela antes de empanar.\n> *   **Molhos:** Sirva com molhos de sua preferência, como molho de tomate caseiro, maionese temperada ou iogurte com ervas.\n> \n> **Sugestões de Acompanhamentos:**\n> \n> *   Arroz branco\n> *   Salada verde\n> *   Purê de batata\n> *   Legumes cozidos no vapor\n> *   Molho de pimenta\n> \n"
          },
          "metadata": {}
        },
        {
          "output_type": "stream",
          "name": "stdout",
          "text": [
            "--------------------------------------------------------------\n",
            "\n",
            "Fim do Projeto Receita Culinária.\n"
          ]
        }
      ]
    },
    {
      "cell_type": "code",
      "source": [],
      "metadata": {
        "id": "Vi0gsqTaaFjW"
      },
      "execution_count": null,
      "outputs": []
    }
  ]
}